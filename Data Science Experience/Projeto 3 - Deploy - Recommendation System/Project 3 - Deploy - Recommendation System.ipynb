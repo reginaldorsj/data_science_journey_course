{
 "cells": [
  {
   "cell_type": "markdown",
   "id": "451bcf31",
   "metadata": {},
   "source": [
    "# <a>Project 3 - Deploy - Recommendation System</a>\n",
    "\n",
    "## Let's Data - Data Science Journey - Data Science Experience\n",
    "\n",
    "*By Reginaldo Jr - <a>reginaldojr@yahoo.com</a>*"
   ]
  },
  {
   "cell_type": "markdown",
   "id": "39c83cf5",
   "metadata": {},
   "source": [
    "### Imports and Configurations"
   ]
  },
  {
   "cell_type": "code",
   "execution_count": 45,
   "id": "50f51340",
   "metadata": {},
   "outputs": [],
   "source": [
    "import pandas as pd\n",
    "import warnings \n",
    "import numpy as np\n",
    "import requests as req\n",
    "\n",
    "from IPython.display import display, HTML\n",
    "\n",
    "warnings.filterwarnings(\"ignore\")\n",
    "\n",
    "pd.set_option(\"display.float_format\", lambda x: \"%.2f\" % x)\n",
    "pd.set_option(\"display.max_rows\", None)\n",
    "#pd.set_option(\"display.max_columns\", None)"
   ]
  },
  {
   "cell_type": "markdown",
   "id": "04620697",
   "metadata": {},
   "source": [
    "### Test Deploy"
   ]
  },
  {
   "cell_type": "code",
   "execution_count": 46,
   "id": "a0ac8d1a",
   "metadata": {},
   "outputs": [],
   "source": [
    "# this needs to be run from the shell command.\n",
    "# python Handler.py"
   ]
  },
  {
   "cell_type": "code",
   "execution_count": 47,
   "id": "bd09bbb0",
   "metadata": {},
   "outputs": [
    {
     "data": {
      "text/html": [
       "<div>\n",
       "<style scoped>\n",
       "    .dataframe tbody tr th:only-of-type {\n",
       "        vertical-align: middle;\n",
       "    }\n",
       "\n",
       "    .dataframe tbody tr th {\n",
       "        vertical-align: top;\n",
       "    }\n",
       "\n",
       "    .dataframe thead th {\n",
       "        text-align: right;\n",
       "    }\n",
       "</style>\n",
       "<table border=\"1\" class=\"dataframe\">\n",
       "  <thead>\n",
       "    <tr style=\"text-align: right;\">\n",
       "      <th></th>\n",
       "      <th>search</th>\n",
       "    </tr>\n",
       "  </thead>\n",
       "  <tbody>\n",
       "    <tr>\n",
       "      <th>0</th>\n",
       "      <td>Harry Potter</td>\n",
       "    </tr>\n",
       "  </tbody>\n",
       "</table>\n",
       "</div>"
      ],
      "text/plain": [
       "         search\n",
       "0  Harry Potter"
      ]
     },
     "execution_count": 47,
     "metadata": {},
     "output_type": "execute_result"
    }
   ],
   "source": [
    "df_sugest = pd.DataFrame({\"search\":[\"Harry Potter\"]})\n",
    "df_sugest"
   ]
  },
  {
   "cell_type": "code",
   "execution_count": 48,
   "id": "e2283fdf",
   "metadata": {},
   "outputs": [
    {
     "data": {
      "text/plain": [
       "'[{\"search\":\"Harry Potter\"}]'"
      ]
     },
     "execution_count": 48,
     "metadata": {},
     "output_type": "execute_result"
    }
   ],
   "source": [
    "json = df_sugest.to_json(orient=\"records\")\n",
    "json"
   ]
  },
  {
   "cell_type": "code",
   "execution_count": 49,
   "id": "7e97e96f",
   "metadata": {},
   "outputs": [
    {
     "data": {
      "text/plain": [
       "<Response [200]>"
      ]
     },
     "execution_count": 49,
     "metadata": {},
     "output_type": "execute_result"
    }
   ],
   "source": [
    "ret = req.get(url='http://localhost:5000/sugest', data=json, headers={\"Content-type\":\"application/json\"})\n",
    "ret"
   ]
  },
  {
   "cell_type": "code",
   "execution_count": 50,
   "id": "bac6bc59",
   "metadata": {},
   "outputs": [
    {
     "data": {
      "text/html": [
       "<div>\n",
       "<style scoped>\n",
       "    .dataframe tbody tr th:only-of-type {\n",
       "        vertical-align: middle;\n",
       "    }\n",
       "\n",
       "    .dataframe tbody tr th {\n",
       "        vertical-align: top;\n",
       "    }\n",
       "\n",
       "    .dataframe thead th {\n",
       "        text-align: right;\n",
       "    }\n",
       "</style>\n",
       "<table border=\"1\" class=\"dataframe\">\n",
       "  <thead>\n",
       "    <tr style=\"text-align: right;\">\n",
       "      <th></th>\n",
       "      <th>title</th>\n",
       "      <th>url</th>\n",
       "    </tr>\n",
       "  </thead>\n",
       "  <tbody>\n",
       "    <tr>\n",
       "      <th>0</th>\n",
       "      <td>Harry Potter and the Chamber of Secrets (Book 2)</td>\n",
       "      <td>http://images.amazon.com/images/P/0439064872.0...</td>\n",
       "    </tr>\n",
       "    <tr>\n",
       "      <th>1</th>\n",
       "      <td>Harry Potter and the Prisoner of Azkaban (Book 3)</td>\n",
       "      <td>http://images.amazon.com/images/P/0439136350.0...</td>\n",
       "    </tr>\n",
       "    <tr>\n",
       "      <th>2</th>\n",
       "      <td>Harry Potter and the Goblet of Fire (Book 4)</td>\n",
       "      <td>http://images.amazon.com/images/P/0439139597.0...</td>\n",
       "    </tr>\n",
       "    <tr>\n",
       "      <th>3</th>\n",
       "      <td>Harry Potter and the Sorcerer's Stone (Book 1)</td>\n",
       "      <td>http://images.amazon.com/images/P/0590353403.0...</td>\n",
       "    </tr>\n",
       "    <tr>\n",
       "      <th>4</th>\n",
       "      <td>Harry Potter and the Order of the Phoenix (Boo...</td>\n",
       "      <td>http://images.amazon.com/images/P/043935806X.0...</td>\n",
       "    </tr>\n",
       "    <tr>\n",
       "      <th>5</th>\n",
       "      <td>Harry Potter and the Sorcerer's Stone (Harry P...</td>\n",
       "      <td>http://images.amazon.com/images/P/059035342X.0...</td>\n",
       "    </tr>\n",
       "    <tr>\n",
       "      <th>6</th>\n",
       "      <td>The Hobbit: or There and Back Again</td>\n",
       "      <td>http://images.amazon.com/images/P/0618002219.0...</td>\n",
       "    </tr>\n",
       "    <tr>\n",
       "      <th>7</th>\n",
       "      <td>Anne of Ingleside (Anne of Green Gables Novels...</td>\n",
       "      <td>http://images.amazon.com/images/P/0553213156.0...</td>\n",
       "    </tr>\n",
       "  </tbody>\n",
       "</table>\n",
       "</div>"
      ],
      "text/plain": [
       "                                               title  \\\n",
       "0   Harry Potter and the Chamber of Secrets (Book 2)   \n",
       "1  Harry Potter and the Prisoner of Azkaban (Book 3)   \n",
       "2       Harry Potter and the Goblet of Fire (Book 4)   \n",
       "3     Harry Potter and the Sorcerer's Stone (Book 1)   \n",
       "4  Harry Potter and the Order of the Phoenix (Boo...   \n",
       "5  Harry Potter and the Sorcerer's Stone (Harry P...   \n",
       "6                The Hobbit: or There and Back Again   \n",
       "7  Anne of Ingleside (Anne of Green Gables Novels...   \n",
       "\n",
       "                                                 url  \n",
       "0  http://images.amazon.com/images/P/0439064872.0...  \n",
       "1  http://images.amazon.com/images/P/0439136350.0...  \n",
       "2  http://images.amazon.com/images/P/0439139597.0...  \n",
       "3  http://images.amazon.com/images/P/0590353403.0...  \n",
       "4  http://images.amazon.com/images/P/043935806X.0...  \n",
       "5  http://images.amazon.com/images/P/059035342X.0...  \n",
       "6  http://images.amazon.com/images/P/0618002219.0...  \n",
       "7  http://images.amazon.com/images/P/0553213156.0...  "
      ]
     },
     "execution_count": 50,
     "metadata": {},
     "output_type": "execute_result"
    }
   ],
   "source": [
    "df_ret = pd.DataFrame(ret.json())\n",
    "df_ret"
   ]
  },
  {
   "cell_type": "code",
   "execution_count": 51,
   "id": "3faad613",
   "metadata": {},
   "outputs": [
    {
     "data": {
      "text/plain": [
       "(8, 2)"
      ]
     },
     "execution_count": 51,
     "metadata": {},
     "output_type": "execute_result"
    }
   ],
   "source": [
    "df_ret.shape"
   ]
  },
  {
   "cell_type": "code",
   "execution_count": 52,
   "id": "e11f1af3",
   "metadata": {},
   "outputs": [
    {
     "name": "stdout",
     "output_type": "stream",
     "text": [
      "Recomendation for ['Harry Potter']:\n"
     ]
    },
    {
     "data": {
      "text/html": [
       "<table border=\"1\" class=\"dataframe\">\n",
       "  <thead>\n",
       "    <tr style=\"text-align: right;\">\n",
       "      <th></th>\n",
       "      <th>Title</th>\n",
       "      <th>Cover</th>\n",
       "    </tr>\n",
       "  </thead>\n",
       "  <tbody>\n",
       "    <tr>\n",
       "      <th>0</th>\n",
       "      <td>Harry Potter and the Chamber of Secrets (Book 2)</td>\n",
       "      <td><img src=\"http://images.amazon.com/images/P/0439064872.01.MZZZZZZZ.jpg\" alt=\"Harry Potter and the Chamber of Secrets (Book 2)\"/></td>\n",
       "    </tr>\n",
       "    <tr>\n",
       "      <th>1</th>\n",
       "      <td>Harry Potter and the Prisoner of Azkaban (Book 3)</td>\n",
       "      <td><img src=\"http://images.amazon.com/images/P/0439136350.01.MZZZZZZZ.jpg\" alt=\"Harry Potter and the Prisoner of Azkaban (Book 3)\"/></td>\n",
       "    </tr>\n",
       "    <tr>\n",
       "      <th>2</th>\n",
       "      <td>Harry Potter and the Goblet of Fire (Book 4)</td>\n",
       "      <td><img src=\"http://images.amazon.com/images/P/0439139597.01.MZZZZZZZ.jpg\" alt=\"Harry Potter and the Goblet of Fire (Book 4)\"/></td>\n",
       "    </tr>\n",
       "    <tr>\n",
       "      <th>3</th>\n",
       "      <td>Harry Potter and the Sorcerer's Stone (Book 1)</td>\n",
       "      <td><img src=\"http://images.amazon.com/images/P/0590353403.01.MZZZZZZZ.jpg\" alt=\"Harry Potter and the Sorcerer's Stone (Book 1)\"/></td>\n",
       "    </tr>\n",
       "    <tr>\n",
       "      <th>4</th>\n",
       "      <td>Harry Potter and the Order of the Phoenix (Book 5)</td>\n",
       "      <td><img src=\"http://images.amazon.com/images/P/043935806X.01.MZZZZZZZ.jpg\" alt=\"Harry Potter and the Order of the Phoenix (Book 5)\"/></td>\n",
       "    </tr>\n",
       "    <tr>\n",
       "      <th>5</th>\n",
       "      <td>Harry Potter and the Sorcerer's Stone (Harry Potter (Paperback))</td>\n",
       "      <td><img src=\"http://images.amazon.com/images/P/059035342X.01.MZZZZZZZ.jpg\" alt=\"Harry Potter and the Sorcerer's Stone (Harry Potter (Paperback))\"/></td>\n",
       "    </tr>\n",
       "    <tr>\n",
       "      <th>6</th>\n",
       "      <td>The Hobbit: or There and Back Again</td>\n",
       "      <td><img src=\"http://images.amazon.com/images/P/0618002219.01.MZZZZZZZ.jpg\" alt=\"The Hobbit: or There and Back Again\"/></td>\n",
       "    </tr>\n",
       "    <tr>\n",
       "      <th>7</th>\n",
       "      <td>Anne of Ingleside (Anne of Green Gables Novels (Paperback))</td>\n",
       "      <td><img src=\"http://images.amazon.com/images/P/0553213156.01.MZZZZZZZ.jpg\" alt=\"Anne of Ingleside (Anne of Green Gables Novels (Paperback))\"/></td>\n",
       "    </tr>\n",
       "  </tbody>\n",
       "</table>"
      ],
      "text/plain": [
       "<IPython.core.display.HTML object>"
      ]
     },
     "metadata": {},
     "output_type": "display_data"
    }
   ],
   "source": [
    "print(f\"Recomendation for {df_sugest.values[0]}:\")\n",
    "url = []\n",
    "title=[]\n",
    "for i in range(df_ret.shape[0]):  \n",
    "    url_ = df_ret.loc[i]['url']\n",
    "    title_ = df_ret.loc[i]['title']\n",
    "    img_html = f'<img src=\"{url_}\" alt=\"{title_}\"/>'\n",
    "    url.append(img_html)\n",
    "    title.append(title_)\n",
    "df=pd.DataFrame({\"Title\":title, \"Cover\":url})\n",
    "display(HTML(df.to_html(escape=False)))"
   ]
  }
 ],
 "metadata": {
  "kernelspec": {
   "display_name": "Python 3 (ipykernel)",
   "language": "python",
   "name": "python3"
  },
  "language_info": {
   "codemirror_mode": {
    "name": "ipython",
    "version": 3
   },
   "file_extension": ".py",
   "mimetype": "text/x-python",
   "name": "python",
   "nbconvert_exporter": "python",
   "pygments_lexer": "ipython3",
   "version": "3.11.5"
  }
 },
 "nbformat": 4,
 "nbformat_minor": 5
}
