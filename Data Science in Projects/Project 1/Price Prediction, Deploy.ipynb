{
 "cells": [
  {
   "cell_type": "markdown",
   "id": "20253666",
   "metadata": {},
   "source": [
    "# <a> Data Science in Projects - Project 1: Price Prediction, Deploy</a>\n",
    "\n",
    "## Let's Data - Data Science Journey\n",
    "\n",
    "*By Reginaldo Jr - <a>reginaldojr@yahoo.com</a>*"
   ]
  },
  {
   "cell_type": "markdown",
   "id": "64fcd429",
   "metadata": {},
   "source": [
    "## Imports and Configurations"
   ]
  },
  {
   "cell_type": "code",
   "execution_count": 32,
   "id": "f0406be9",
   "metadata": {},
   "outputs": [],
   "source": [
    "import pandas   as pd\n",
    "import requests as req"
   ]
  },
  {
   "cell_type": "code",
   "execution_count": 33,
   "id": "840a3aa3",
   "metadata": {},
   "outputs": [],
   "source": [
    "#!python Handler.py"
   ]
  },
  {
   "cell_type": "code",
   "execution_count": 34,
   "id": "c5f796aa",
   "metadata": {},
   "outputs": [
    {
     "data": {
      "text/html": [
       "<div>\n",
       "<style scoped>\n",
       "    .dataframe tbody tr th:only-of-type {\n",
       "        vertical-align: middle;\n",
       "    }\n",
       "\n",
       "    .dataframe tbody tr th {\n",
       "        vertical-align: top;\n",
       "    }\n",
       "\n",
       "    .dataframe thead th {\n",
       "        text-align: right;\n",
       "    }\n",
       "</style>\n",
       "<table border=\"1\" class=\"dataframe\">\n",
       "  <thead>\n",
       "    <tr style=\"text-align: right;\">\n",
       "      <th></th>\n",
       "      <th>brand</th>\n",
       "      <th>min_cost_price</th>\n",
       "      <th>max_cost_price</th>\n",
       "      <th>vehicle_age</th>\n",
       "      <th>km_driven</th>\n",
       "      <th>seller_type</th>\n",
       "      <th>fuel_type</th>\n",
       "      <th>transmission_type</th>\n",
       "      <th>mileage</th>\n",
       "      <th>engine</th>\n",
       "      <th>max_power</th>\n",
       "      <th>seats</th>\n",
       "      <th>selling_price</th>\n",
       "    </tr>\n",
       "  </thead>\n",
       "  <tbody>\n",
       "    <tr>\n",
       "      <th>0</th>\n",
       "      <td>Maruti</td>\n",
       "      <td>3.570039e+05</td>\n",
       "      <td>4.654015e+05</td>\n",
       "      <td>9</td>\n",
       "      <td>120000</td>\n",
       "      <td>Individual</td>\n",
       "      <td>Petrol</td>\n",
       "      <td>Manual</td>\n",
       "      <td>19.70</td>\n",
       "      <td>796</td>\n",
       "      <td>46.30</td>\n",
       "      <td>5</td>\n",
       "      <td>120000</td>\n",
       "    </tr>\n",
       "    <tr>\n",
       "      <th>1</th>\n",
       "      <td>Hyundai</td>\n",
       "      <td>7.110000e+05</td>\n",
       "      <td>7.480000e+05</td>\n",
       "      <td>5</td>\n",
       "      <td>20000</td>\n",
       "      <td>Individual</td>\n",
       "      <td>Petrol</td>\n",
       "      <td>Manual</td>\n",
       "      <td>18.90</td>\n",
       "      <td>1197</td>\n",
       "      <td>82.00</td>\n",
       "      <td>5</td>\n",
       "      <td>550000</td>\n",
       "    </tr>\n",
       "    <tr>\n",
       "      <th>2</th>\n",
       "      <td>Hyundai</td>\n",
       "      <td>8.540829e+05</td>\n",
       "      <td>1.307926e+06</td>\n",
       "      <td>11</td>\n",
       "      <td>60000</td>\n",
       "      <td>Individual</td>\n",
       "      <td>Petrol</td>\n",
       "      <td>Manual</td>\n",
       "      <td>17.00</td>\n",
       "      <td>1197</td>\n",
       "      <td>80.00</td>\n",
       "      <td>5</td>\n",
       "      <td>215000</td>\n",
       "    </tr>\n",
       "    <tr>\n",
       "      <th>3</th>\n",
       "      <td>Maruti</td>\n",
       "      <td>3.570039e+05</td>\n",
       "      <td>4.654015e+05</td>\n",
       "      <td>9</td>\n",
       "      <td>37000</td>\n",
       "      <td>Individual</td>\n",
       "      <td>Petrol</td>\n",
       "      <td>Manual</td>\n",
       "      <td>20.92</td>\n",
       "      <td>998</td>\n",
       "      <td>67.10</td>\n",
       "      <td>5</td>\n",
       "      <td>226000</td>\n",
       "    </tr>\n",
       "    <tr>\n",
       "      <th>4</th>\n",
       "      <td>Ford</td>\n",
       "      <td>1.014000e+06</td>\n",
       "      <td>1.379000e+06</td>\n",
       "      <td>6</td>\n",
       "      <td>30000</td>\n",
       "      <td>Dealer</td>\n",
       "      <td>Diesel</td>\n",
       "      <td>Manual</td>\n",
       "      <td>22.77</td>\n",
       "      <td>1498</td>\n",
       "      <td>98.59</td>\n",
       "      <td>5</td>\n",
       "      <td>570000</td>\n",
       "    </tr>\n",
       "  </tbody>\n",
       "</table>\n",
       "</div>"
      ],
      "text/plain": [
       "     brand  min_cost_price  max_cost_price  vehicle_age  km_driven  \\\n",
       "0   Maruti    3.570039e+05    4.654015e+05            9     120000   \n",
       "1  Hyundai    7.110000e+05    7.480000e+05            5      20000   \n",
       "2  Hyundai    8.540829e+05    1.307926e+06           11      60000   \n",
       "3   Maruti    3.570039e+05    4.654015e+05            9      37000   \n",
       "4     Ford    1.014000e+06    1.379000e+06            6      30000   \n",
       "\n",
       "  seller_type fuel_type transmission_type  mileage  engine  max_power  seats  \\\n",
       "0  Individual    Petrol            Manual    19.70     796      46.30      5   \n",
       "1  Individual    Petrol            Manual    18.90    1197      82.00      5   \n",
       "2  Individual    Petrol            Manual    17.00    1197      80.00      5   \n",
       "3  Individual    Petrol            Manual    20.92     998      67.10      5   \n",
       "4      Dealer    Diesel            Manual    22.77    1498      98.59      5   \n",
       "\n",
       "   selling_price  \n",
       "0         120000  \n",
       "1         550000  \n",
       "2         215000  \n",
       "3         226000  \n",
       "4         570000  "
      ]
     },
     "execution_count": 34,
     "metadata": {},
     "output_type": "execute_result"
    }
   ],
   "source": [
    "df = pd.read_csv('cardekho_imputated.csv', index_col=0)\n",
    "df = df.drop(['car_name', 'model'], axis=1)\n",
    "df.head()"
   ]
  },
  {
   "cell_type": "code",
   "execution_count": 35,
   "id": "d6e65ac9",
   "metadata": {},
   "outputs": [
    {
     "data": {
      "text/plain": [
       "0    120000\n",
       "1    550000\n",
       "Name: selling_price, dtype: int64"
      ]
     },
     "execution_count": 35,
     "metadata": {},
     "output_type": "execute_result"
    }
   ],
   "source": [
    "df_test = df.loc[0:1]\n",
    "df_test[\"selling_price\"]"
   ]
  },
  {
   "cell_type": "code",
   "execution_count": 36,
   "id": "da2a61d8",
   "metadata": {},
   "outputs": [
    {
     "data": {
      "text/plain": [
       "(2, 13)"
      ]
     },
     "execution_count": 36,
     "metadata": {},
     "output_type": "execute_result"
    }
   ],
   "source": [
    "df_test.shape"
   ]
  },
  {
   "cell_type": "code",
   "execution_count": 37,
   "id": "86e53670",
   "metadata": {},
   "outputs": [
    {
     "data": {
      "text/plain": [
       "'[{\"brand\":\"Maruti\",\"min_cost_price\":357003.861003861,\"max_cost_price\":465401.5444015444,\"vehicle_age\":9,\"km_driven\":120000,\"seller_type\":\"Individual\",\"fuel_type\":\"Petrol\",\"transmission_type\":\"Manual\",\"mileage\":19.7,\"engine\":796,\"max_power\":46.3,\"seats\":5,\"selling_price\":120000},{\"brand\":\"Hyundai\",\"min_cost_price\":711000.0,\"max_cost_price\":748000.0,\"vehicle_age\":5,\"km_driven\":20000,\"seller_type\":\"Individual\",\"fuel_type\":\"Petrol\",\"transmission_type\":\"Manual\",\"mileage\":18.9,\"engine\":1197,\"max_power\":82.0,\"seats\":5,\"selling_price\":550000}]'"
      ]
     },
     "execution_count": 37,
     "metadata": {},
     "output_type": "execute_result"
    }
   ],
   "source": [
    "json = df_test.to_json(orient=\"records\")\n",
    "json"
   ]
  },
  {
   "cell_type": "code",
   "execution_count": 42,
   "id": "e32b7128",
   "metadata": {},
   "outputs": [
    {
     "data": {
      "text/plain": [
       "<Response [200]>"
      ]
     },
     "execution_count": 42,
     "metadata": {},
     "output_type": "execute_result"
    }
   ],
   "source": [
    "ret = req.get(url='http://localhost:5000/predict', data=json, headers={\"Content-type\":\"application/json\"})\n",
    "ret"
   ]
  },
  {
   "cell_type": "code",
   "execution_count": 43,
   "id": "eda10393",
   "metadata": {},
   "outputs": [
    {
     "data": {
      "text/html": [
       "<div>\n",
       "<style scoped>\n",
       "    .dataframe tbody tr th:only-of-type {\n",
       "        vertical-align: middle;\n",
       "    }\n",
       "\n",
       "    .dataframe tbody tr th {\n",
       "        vertical-align: top;\n",
       "    }\n",
       "\n",
       "    .dataframe thead th {\n",
       "        text-align: right;\n",
       "    }\n",
       "</style>\n",
       "<table border=\"1\" class=\"dataframe\">\n",
       "  <thead>\n",
       "    <tr style=\"text-align: right;\">\n",
       "      <th></th>\n",
       "      <th>brand</th>\n",
       "      <th>min_cost_price</th>\n",
       "      <th>max_cost_price</th>\n",
       "      <th>vehicle_age</th>\n",
       "      <th>km_driven</th>\n",
       "      <th>seller_type</th>\n",
       "      <th>fuel_type</th>\n",
       "      <th>transmission_type</th>\n",
       "      <th>mileage</th>\n",
       "      <th>engine</th>\n",
       "      <th>max_power</th>\n",
       "      <th>seats</th>\n",
       "      <th>selling_price</th>\n",
       "      <th>selling_price_pred</th>\n",
       "    </tr>\n",
       "  </thead>\n",
       "  <tbody>\n",
       "    <tr>\n",
       "      <th>0</th>\n",
       "      <td>Maruti</td>\n",
       "      <td>357003.861004</td>\n",
       "      <td>465401.544402</td>\n",
       "      <td>9</td>\n",
       "      <td>120000</td>\n",
       "      <td>Individual</td>\n",
       "      <td>Petrol</td>\n",
       "      <td>Manual</td>\n",
       "      <td>19.7</td>\n",
       "      <td>796</td>\n",
       "      <td>46.3</td>\n",
       "      <td>5</td>\n",
       "      <td>120000</td>\n",
       "      <td>180883.333333</td>\n",
       "    </tr>\n",
       "    <tr>\n",
       "      <th>1</th>\n",
       "      <td>Hyundai</td>\n",
       "      <td>711000.000000</td>\n",
       "      <td>748000.000000</td>\n",
       "      <td>5</td>\n",
       "      <td>20000</td>\n",
       "      <td>Individual</td>\n",
       "      <td>Petrol</td>\n",
       "      <td>Manual</td>\n",
       "      <td>18.9</td>\n",
       "      <td>1197</td>\n",
       "      <td>82.0</td>\n",
       "      <td>5</td>\n",
       "      <td>550000</td>\n",
       "      <td>531850.000000</td>\n",
       "    </tr>\n",
       "  </tbody>\n",
       "</table>\n",
       "</div>"
      ],
      "text/plain": [
       "     brand  min_cost_price  max_cost_price  vehicle_age  km_driven  \\\n",
       "0   Maruti   357003.861004   465401.544402            9     120000   \n",
       "1  Hyundai   711000.000000   748000.000000            5      20000   \n",
       "\n",
       "  seller_type fuel_type transmission_type  mileage  engine  max_power  seats  \\\n",
       "0  Individual    Petrol            Manual     19.7     796       46.3      5   \n",
       "1  Individual    Petrol            Manual     18.9    1197       82.0      5   \n",
       "\n",
       "   selling_price  selling_price_pred  \n",
       "0         120000       180883.333333  \n",
       "1         550000       531850.000000  "
      ]
     },
     "execution_count": 43,
     "metadata": {},
     "output_type": "execute_result"
    }
   ],
   "source": [
    "pd.DataFrame(ret.json())"
   ]
  },
  {
   "cell_type": "code",
   "execution_count": null,
   "id": "c8914d71",
   "metadata": {},
   "outputs": [],
   "source": []
  }
 ],
 "metadata": {
  "kernelspec": {
   "display_name": "Python 3 (ipykernel)",
   "language": "python",
   "name": "python3"
  },
  "language_info": {
   "codemirror_mode": {
    "name": "ipython",
    "version": 3
   },
   "file_extension": ".py",
   "mimetype": "text/x-python",
   "name": "python",
   "nbconvert_exporter": "python",
   "pygments_lexer": "ipython3",
   "version": "3.11.5"
  }
 },
 "nbformat": 4,
 "nbformat_minor": 5
}
